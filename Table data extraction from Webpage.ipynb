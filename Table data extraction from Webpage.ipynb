{
 "cells": [
  {
   "cell_type": "markdown",
   "metadata": {},
   "source": [
    "# Data Extraction from http://www.nsii.org.cn/2017/home-en.php"
   ]
  },
  {
   "cell_type": "markdown",
   "metadata": {},
   "source": [
    "1. install required packges \n",
    "    1. pip install selenium\n",
    "    2. pip install pandas\n",
    "2. Update your Google Chrome <br>\n",
    "3. Download chromedriver from https://chromedriver.chromium.org/getting-started<br>\n",
    "4. Create a seperate folder to save the chromedriver you have downloaded.<br>\n",
    "5. Add the chromedriver's path to system's path.<br>\n",
    "    1. Follow the command : Control Panel -> System and Security -> System -> Advanced system settings -> Environment variables \n",
    "    2. In system variables, find 'Path' click on it.\n",
    "    3. Copy the directory where you have saved chromedriver eg. E:\\driver in variable value.\n",
    "    4. Press OK > OK > OK\n",
    "6. Open Jupyter notebook and try to run the developed code first in parts and test if chrome driver is working with your updated version. If yes please run the developed code else restart your PC and test if it is working or not. If you are still facing issue please follow the online instruction available in internet. \n",
    " "
   ]
  },
  {
   "cell_type": "code",
   "execution_count": 1,
   "metadata": {},
   "outputs": [],
   "source": [
    "## Run following libraries\n",
    "import numpy as np\n",
    "import pandas as pd\n",
    "from selenium import webdriver\n",
    "from selenium.webdriver.common.by import By\n",
    "from selenium.webdriver.support.ui import WebDriverWait\n",
    "from selenium.webdriver.support import expected_conditions as EC\n",
    "from selenium.webdriver.common.keys import Keys\n",
    "from selenium.common.exceptions import NoSuchElementException\n",
    "from selenium import webdriver\n",
    "from selenium.webdriver.firefox.options import Options\n",
    "from selenium.webdriver.common.action_chains import ActionChains\n",
    "from selenium.webdriver.chrome.options import Options\n",
    "options = Options()\n",
    "options.binary_location = r'C:\\Users\\Prajapati Vivek\\AppData\\Local\\Mozilla Firefox\\firefox.exe'\n"
   ]
  },
  {
   "cell_type": "code",
   "execution_count": 2,
   "metadata": {},
   "outputs": [],
   "source": [
    "col1=[]\n",
    "col2=[]\n",
    "col3=[]\n",
    "data=pd.read_csv(r'C:\\...\\species.list_China alien flora.csv', encoding='latin')\n",
    "for i in range(len(data)):\n",
    "    chrome_options = Options()\n",
    "    driver = webdriver.Chrome(options=chrome_options)\n",
    "    driver.get(\"http://www.nsii.org.cn/2017/home-en.php\")\n",
    "    elem1=WebDriverWait(driver, 60).until(EC.presence_of_element_located((By.XPATH, \"//input[@id='QueryWord']\")))\n",
    "    elem1.send_keys(data.scientificName.iloc[i])\n",
    "    elem2=WebDriverWait(driver, 60).until(EC.element_to_be_clickable((By.XPATH, \"//button[@id='btnQuickQuery']\")))\n",
    "    #elem2.click()\n",
    "    driver.execute_script(\"arguments[0].click();\", elem2)\n",
    "    elem3=WebDriverWait(driver, 60).until(EC.element_to_be_clickable((By.XPATH, \"//button[@id='btnTable']\")))\n",
    "    driver.execute_script(\"arguments[0].click();\", elem3)\n",
    "    elem4=WebDriverWait(driver, 60).until(EC.presence_of_element_located((By.XPATH, \"//div[@class='query_title']\")))\n",
    "    num=elem4.find_element_by_tag_name('small').text\n",
    "    num1=str(num).split(\" \")\n",
    "    num1=int(num1[0])\n",
    "    num2=int(np.ceil(num1/10))\n",
    "    elem5=WebDriverWait(driver, 60).until(EC.element_to_be_clickable((By.XPATH, \"//button[@onclick='loadMore()']\")))\n",
    "    for j in range(num2):\n",
    "        driver.execute_script(\"arguments[0].click();\", elem5)\n",
    "    elem5=WebDriverWait(driver, 60).until(EC.presence_of_element_located((By.XPATH, \"//table[@class='table table-striped table-hover']\")))\n",
    "    head=elem5.find_element_by_tag_name('thead').text\n",
    "    colnm=str(head).split(\" \")\n",
    "    elem6=WebDriverWait(driver, 60).until(EC.presence_of_element_located((By.TAG_NAME, \"tbody\")))\n",
    "    elem7=WebDriverWait(driver, 60).until(EC.presence_of_all_elements_located((By.TAG_NAME, \"tr\")))\n",
    "    elem7=elem6.find_elements_by_tag_name('tr')\n",
    "    le=len(elem7)\n",
    "    while num1>le:\n",
    "        elem7=elem6.find_elements_by_tag_name('tr')\n",
    "        le=len(elem7)\n",
    "    for l in range(num1):\n",
    "        elem8=elem7[l].find_elements_by_tag_name('td')\n",
    "        col1.append(elem8[1].text)\n",
    "        col2.append(elem8[2].text)\n",
    "        col3.append(elem8[3].text)\n",
    "extracted_data=pd.DataFrame({colnm[1]:col1,colnm[2]:col2,colnm[3]:col3})\n",
    "extracted_data.to_csv('extracted_Data_china.csv', index=None)"
   ]
  }
 ],
 "metadata": {
  "kernelspec": {
   "display_name": "Python 3",
   "language": "python",
   "name": "python3"
  },
  "language_info": {
   "codemirror_mode": {
    "name": "ipython",
    "version": 3
   },
   "file_extension": ".py",
   "mimetype": "text/x-python",
   "name": "python",
   "nbconvert_exporter": "python",
   "pygments_lexer": "ipython3",
   "version": "3.7.6"
  }
 },
 "nbformat": 4,
 "nbformat_minor": 4
}
